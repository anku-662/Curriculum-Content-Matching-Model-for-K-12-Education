{
  "metadata": {
    "accelerator": "GPU",
    "colab": {
      "gpuType": "T4",
      "provenance": []
    },
    "kaggle": {
      "accelerator": "nvidiaTeslaT4",
      "dataSources": [
        {
          "sourceId": 39585,
          "databundleVersionId": 4786639,
          "sourceType": "competition"
        }
      ],
      "dockerImageVersionId": 30302,
      "isInternetEnabled": true,
      "language": "python",
      "sourceType": "notebook",
      "isGpuEnabled": true
    },
    "kernelspec": {
      "name": "python3",
      "display_name": "Python 3",
      "language": "python"
    },
    "language_info": {
      "name": "python",
      "version": "3.7.12",
      "mimetype": "text/x-python",
      "codemirror_mode": {
        "name": "ipython",
        "version": 3
      },
      "pygments_lexer": "ipython3",
      "nbconvert_exporter": "python",
      "file_extension": ".py"
    }
  },
  "nbformat_minor": 0,
  "nbformat": 4,
  "cells": [
    {
      "cell_type": "code",
      "source": [
        "import matplotlib.pyplot as plt\n",
        "import numpy as np\n",
        "import pandas as pd\n",
        "\n",
        "from IPython.display import display, Markdown\n",
        "from pathlib import Path"
      ],
      "metadata": {
        "id": "CXSOqwx5eRXM",
        "execution": {
          "iopub.status.busy": "2024-07-09T17:24:59.494187Z",
          "iopub.execute_input": "2024-07-09T17:24:59.495338Z",
          "iopub.status.idle": "2024-07-09T17:24:59.500402Z",
          "shell.execute_reply.started": "2024-07-09T17:24:59.495297Z",
          "shell.execute_reply": "2024-07-09T17:24:59.499347Z"
        },
        "trusted": true
      },
      "execution_count": null,
      "outputs": []
    },
    {
      "cell_type": "code",
      "source": [
        "from google.colab import drive\n",
        "drive.mount('/content/drive')"
      ],
      "metadata": {
        "id": "TVThlu-deUUg",
        "execution": {
          "iopub.status.busy": "2024-07-09T17:24:59.502387Z",
          "iopub.execute_input": "2024-07-09T17:24:59.502707Z",
          "iopub.status.idle": "2024-07-09T17:24:59.510161Z",
          "shell.execute_reply.started": "2024-07-09T17:24:59.502666Z",
          "shell.execute_reply": "2024-07-09T17:24:59.508973Z"
        },
        "trusted": true
      },
      "execution_count": null,
      "outputs": []
    },
    {
      "cell_type": "code",
      "source": [
        "!pip install sentence_transformers annoy scikit-learn\n",
        "\n",
        "# Load necessary libraries\n",
        "from sentence_transformers import SentenceTransformer\n",
        "from sklearn.svm import SVC\n",
        "from sklearn.metrics import accuracy_score, classification_report, confusion_matrix\n",
        "from sklearn.model_selection import train_test_split\n",
        "import joblib\n"
      ],
      "metadata": {
        "execution": {
          "iopub.status.busy": "2024-07-09T17:24:59.511280Z",
          "iopub.execute_input": "2024-07-09T17:24:59.511577Z",
          "iopub.status.idle": "2024-07-09T17:25:11.032861Z",
          "shell.execute_reply.started": "2024-07-09T17:24:59.511550Z",
          "shell.execute_reply": "2024-07-09T17:25:11.031525Z"
        },
        "trusted": true,
        "id": "f56bOVlysN6G",
        "outputId": "3387982f-fbd4-4936-8e58-16fe85811d29"
      },
      "execution_count": null,
      "outputs": [
        {
          "name": "stdout",
          "text": "Requirement already satisfied: sentence_transformers in /opt/conda/lib/python3.7/site-packages (2.2.2)\nRequirement already satisfied: annoy in /opt/conda/lib/python3.7/site-packages (1.17.1)\nRequirement already satisfied: scikit-learn in /opt/conda/lib/python3.7/site-packages (1.0.2)\nRequirement already satisfied: scipy in /opt/conda/lib/python3.7/site-packages (from sentence_transformers) (1.7.3)\nRequirement already satisfied: transformers<5.0.0,>=4.6.0 in /opt/conda/lib/python3.7/site-packages (from sentence_transformers) (4.20.1)\nRequirement already satisfied: torch>=1.6.0 in /opt/conda/lib/python3.7/site-packages (from sentence_transformers) (1.11.0)\nRequirement already satisfied: huggingface-hub>=0.4.0 in /opt/conda/lib/python3.7/site-packages (from sentence_transformers) (0.10.1)\nRequirement already satisfied: tqdm in /opt/conda/lib/python3.7/site-packages (from sentence_transformers) (4.64.0)\nRequirement already satisfied: nltk in /opt/conda/lib/python3.7/site-packages (from sentence_transformers) (3.7)\nRequirement already satisfied: sentencepiece in /opt/conda/lib/python3.7/site-packages (from sentence_transformers) (0.1.97)\nRequirement already satisfied: torchvision in /opt/conda/lib/python3.7/site-packages (from sentence_transformers) (0.12.0)\nRequirement already satisfied: numpy in /opt/conda/lib/python3.7/site-packages (from sentence_transformers) (1.21.6)\nRequirement already satisfied: threadpoolctl>=2.0.0 in /opt/conda/lib/python3.7/site-packages (from scikit-learn) (3.1.0)\nRequirement already satisfied: joblib>=0.11 in /opt/conda/lib/python3.7/site-packages (from scikit-learn) (1.0.1)\nRequirement already satisfied: packaging>=20.9 in /opt/conda/lib/python3.7/site-packages (from huggingface-hub>=0.4.0->sentence_transformers) (21.3)\nRequirement already satisfied: importlib-metadata in /opt/conda/lib/python3.7/site-packages (from huggingface-hub>=0.4.0->sentence_transformers) (4.13.0)\nRequirement already satisfied: pyyaml>=5.1 in /opt/conda/lib/python3.7/site-packages (from huggingface-hub>=0.4.0->sentence_transformers) (6.0)\nRequirement already satisfied: typing-extensions>=3.7.4.3 in /opt/conda/lib/python3.7/site-packages (from huggingface-hub>=0.4.0->sentence_transformers) (4.1.1)\nRequirement already satisfied: requests in /opt/conda/lib/python3.7/site-packages (from huggingface-hub>=0.4.0->sentence_transformers) (2.28.1)\nRequirement already satisfied: filelock in /opt/conda/lib/python3.7/site-packages (from huggingface-hub>=0.4.0->sentence_transformers) (3.7.1)\nRequirement already satisfied: regex!=2019.12.17 in /opt/conda/lib/python3.7/site-packages (from transformers<5.0.0,>=4.6.0->sentence_transformers) (2021.11.10)\nRequirement already satisfied: tokenizers!=0.11.3,<0.13,>=0.11.1 in /opt/conda/lib/python3.7/site-packages (from transformers<5.0.0,>=4.6.0->sentence_transformers) (0.12.1)\nRequirement already satisfied: click in /opt/conda/lib/python3.7/site-packages (from nltk->sentence_transformers) (8.0.4)\nRequirement already satisfied: pillow!=8.3.*,>=5.3.0 in /opt/conda/lib/python3.7/site-packages (from torchvision->sentence_transformers) (9.1.1)\nRequirement already satisfied: pyparsing!=3.0.5,>=2.0.2 in /opt/conda/lib/python3.7/site-packages (from packaging>=20.9->huggingface-hub>=0.4.0->sentence_transformers) (3.0.9)\nRequirement already satisfied: zipp>=0.5 in /opt/conda/lib/python3.7/site-packages (from importlib-metadata->huggingface-hub>=0.4.0->sentence_transformers) (3.8.0)\nRequirement already satisfied: charset-normalizer<3,>=2 in /opt/conda/lib/python3.7/site-packages (from requests->huggingface-hub>=0.4.0->sentence_transformers) (2.1.0)\nRequirement already satisfied: urllib3<1.27,>=1.21.1 in /opt/conda/lib/python3.7/site-packages (from requests->huggingface-hub>=0.4.0->sentence_transformers) (1.26.12)\nRequirement already satisfied: idna<4,>=2.5 in /opt/conda/lib/python3.7/site-packages (from requests->huggingface-hub>=0.4.0->sentence_transformers) (3.3)\nRequirement already satisfied: certifi>=2017.4.17 in /opt/conda/lib/python3.7/site-packages (from requests->huggingface-hub>=0.4.0->sentence_transformers) (2022.9.24)\n\u001b[33mWARNING: Running pip as the 'root' user can result in broken permissions and conflicting behaviour with the system package manager. It is recommended to use a virtual environment instead: https://pip.pypa.io/warnings/venv\u001b[0m\u001b[33m\n\u001b[0m",
          "output_type": "stream"
        }
      ]
    },
    {
      "cell_type": "code",
      "source": [
        "\n",
        "# # Load the data into pandas dataframes\n",
        "topics_df = pd.read_csv('/content/drive/MyDrive/curriculam_Content_data/topics.csv', index_col=0).fillna({\"title\": \"\", \"description\": \"\"})\n",
        "topics_df = topics_df[topics_df['language'] == 'en']\n",
        "content_df = pd.read_csv('/content/drive/MyDrive/curriculam_Content_data/content.csv', index_col=0).fillna(\"\")\n",
        "content_df = content_df[content_df['language'] == 'en']\n",
        "correlations_df = pd.read_csv('/content/drive/MyDrive/curriculam_Content_data/correlations.csv', index_col=0)\n",
        "\n",
        "# Filter topics that have content\n",
        "topics_df = topics_df[topics_df['has_content']]"
      ],
      "metadata": {
        "id": "ztHiUTBqeWtm",
        "execution": {
          "iopub.status.busy": "2024-07-09T17:25:31.124924Z",
          "iopub.execute_input": "2024-07-09T17:25:31.125254Z",
          "iopub.status.idle": "2024-07-09T17:25:31.308500Z",
          "shell.execute_reply.started": "2024-07-09T17:25:31.125224Z",
          "shell.execute_reply": "2024-07-09T17:25:31.307651Z"
        },
        "trusted": true
      },
      "execution_count": null,
      "outputs": []
    },
    {
      "cell_type": "code",
      "source": [
        "# Define helper functions and classes\n",
        "class Topic:\n",
        "    def __init__(self, topic_id):\n",
        "        self.id = topic_id\n",
        "\n",
        "    @property\n",
        "    def parent(self):\n",
        "        parent_id = topics_df.loc[self.id].parent\n",
        "        if pd.isna(parent_id):\n",
        "            return None\n",
        "        else:\n",
        "            return Topic(parent_id)\n",
        "\n",
        "    @property\n",
        "    def ancestors(self):\n",
        "        ancestors = []\n",
        "        parent = self.parent\n",
        "        while parent is not None:\n",
        "            ancestors.append(parent)\n",
        "            parent = parent.parent\n",
        "        return ancestors\n",
        "\n",
        "    @property\n",
        "    def siblings(self):\n",
        "        if not self.parent:\n",
        "            return []\n",
        "        else:\n",
        "            return [topic for topic in self.parent.children if topic != self]\n",
        "\n",
        "    @property\n",
        "    def content(self):\n",
        "        if self.id in correlations_df.index:\n",
        "            return [ContentItem(content_id) for content_id in correlations_df.loc[self.id].content_ids.split()]\n",
        "        else:\n",
        "            return tuple([]) if self.has_content else []\n",
        "\n",
        "    def get_breadcrumbs(self, separator=\" >> \", include_self=True, include_root=True):\n",
        "        ancestors = self.ancestors\n",
        "        if include_self:\n",
        "            ancestors = [self] + ancestors\n",
        "        if not include_root:\n",
        "            ancestors = ancestors[:-1]\n",
        "        return separator.join(reversed([a.title for a in ancestors]))\n",
        "\n",
        "    @property\n",
        "    def children(self):\n",
        "        return [Topic(child_id) for child_id in topics_df[topics_df.parent == self.id].index]\n",
        "\n",
        "    def subtree_markdown(self, depth=0):\n",
        "        markdown = \"  \" * depth + \"- \" + self.title + \"\\n\"\n",
        "        for child in self.children:\n",
        "            markdown += child.subtree_markdown(depth=depth + 1)\n",
        "        for content in self.content:\n",
        "            markdown += (\"  \" * (depth + 1) + \"- \" + \"[\" + content.kind.title() + \"] \" + content.title) + \"\\n\"\n",
        "        return markdown\n",
        "\n",
        "    def __eq__(self, other):\n",
        "        if not isinstance(other, Topic):\n",
        "            return False\n",
        "        return self.id == other.id\n",
        "\n",
        "    def __getattr__(self, name):\n",
        "        return topics_df.loc[self.id][name]\n",
        "\n",
        "    def __str__(self):\n",
        "        return self.title\n",
        "\n",
        "    def __repr__(self):\n",
        "        return f\"<Topic(id={self.id}, title=\\\"{self.title}\\\")>\"\n",
        "\n",
        "class ContentItem:\n",
        "    def __init__(self, content_id):\n",
        "        self.id = content_id\n",
        "\n",
        "    @property\n",
        "    def topics(self):\n",
        "        return [Topic(topic_id) for topic_id in topics_df.loc[correlations_df[correlations_df.content_ids.str.contains(self.id)].index].index]\n",
        "\n",
        "    def __getattr__(self, name):\n",
        "        return content_df.loc[self.id][name]\n",
        "\n",
        "    def __str__(self):\n",
        "        return self.title\n",
        "\n",
        "    def __repr__(self):\n",
        "        return f\"<ContentItem(id={self.id}, title=\\\"{self.title}\\\")>\""
      ],
      "metadata": {
        "id": "6Zw4mA1AdKm9",
        "execution": {
          "iopub.status.busy": "2024-07-09T17:25:31.310411Z",
          "iopub.execute_input": "2024-07-09T17:25:31.310713Z",
          "iopub.status.idle": "2024-07-09T17:25:31.332306Z",
          "shell.execute_reply.started": "2024-07-09T17:25:31.310684Z",
          "shell.execute_reply": "2024-07-09T17:25:31.331184Z"
        },
        "trusted": true
      },
      "execution_count": null,
      "outputs": []
    },
    {
      "cell_type": "code",
      "source": [
        "# Initialize the sentence transformer model\n",
        "model = SentenceTransformer(\"all-mpnet-base-v2\")\n",
        "# Using different models for comparison\n",
        "# model = SentenceTransformer(\"distiluse-base-multilingual-cased-v2\")\n",
        "# model = SentenceTransformer(\"all-MiniLM-L6-v2\")\n",
        "# model = SentenceTransformer(\"paraphrase-MiniLM-L6-v2\")\n"
      ],
      "metadata": {
        "id": "Mm1_CEmCdMxr",
        "execution": {
          "iopub.status.busy": "2024-07-09T17:25:31.333635Z",
          "iopub.execute_input": "2024-07-09T17:25:31.334011Z",
          "iopub.status.idle": "2024-07-09T17:26:00.414702Z",
          "shell.execute_reply.started": "2024-07-09T17:25:31.333981Z",
          "shell.execute_reply": "2024-07-09T17:26:00.413709Z"
        },
        "trusted": true,
        "colab": {
          "referenced_widgets": [
            "1c6a6e9b53824cef92e8df0556b299ae",
            "10b90b7f2e614280a850657f44481c0a",
            "4c156c987b2c4a4e8131eefd04c554fb",
            "7b92259dbbdf454aafdbd63bca3a6fd0",
            "764d1bd868e54caea50682fa5db2ae0c",
            "7f9b32b6f2e04d1fa136327b65aeb7b8",
            "3eb40a0dc8c74c3aa9c62144478a9626",
            "f2a7400c91124184b4a497ea894c14b0",
            "eeb08ed4fe004dd28495cb93705775f3",
            "dde23278acef4c77ac98e3aaa6a48ee6",
            "55736e5b1b574991a52b1de28b1d7592",
            "90175a4cbe2844e3bba4370a8cb101f4",
            "d474605810ea4d27b9d2d778ad90a612",
            "b89414ba0f6d434092aafd8f01e6725c",
            "7f3769f6545742c5ae55b916dafd13bc"
          ]
        },
        "outputId": "91dbdfef-6ce4-4e36-ac35-ed3a6f4c65f9"
      },
      "execution_count": null,
      "outputs": [
        {
          "output_type": "display_data",
          "data": {
            "text/plain": "Downloading:   0%|          | 0.00/1.23k [00:00<?, ?B/s]",
            "application/vnd.jupyter.widget-view+json": {
              "version_major": 2,
              "version_minor": 0,
              "model_id": "1c6a6e9b53824cef92e8df0556b299ae"
            }
          },
          "metadata": {}
        },
        {
          "output_type": "display_data",
          "data": {
            "text/plain": "Downloading:   0%|          | 0.00/190 [00:00<?, ?B/s]",
            "application/vnd.jupyter.widget-view+json": {
              "version_major": 2,
              "version_minor": 0,
              "model_id": "10b90b7f2e614280a850657f44481c0a"
            }
          },
          "metadata": {}
        },
        {
          "output_type": "display_data",
          "data": {
            "text/plain": "Downloading:   0%|          | 0.00/10.6k [00:00<?, ?B/s]",
            "application/vnd.jupyter.widget-view+json": {
              "version_major": 2,
              "version_minor": 0,
              "model_id": "4c156c987b2c4a4e8131eefd04c554fb"
            }
          },
          "metadata": {}
        },
        {
          "output_type": "display_data",
          "data": {
            "text/plain": "Downloading:   0%|          | 0.00/571 [00:00<?, ?B/s]",
            "application/vnd.jupyter.widget-view+json": {
              "version_major": 2,
              "version_minor": 0,
              "model_id": "7b92259dbbdf454aafdbd63bca3a6fd0"
            }
          },
          "metadata": {}
        },
        {
          "output_type": "display_data",
          "data": {
            "text/plain": "Downloading:   0%|          | 0.00/116 [00:00<?, ?B/s]",
            "application/vnd.jupyter.widget-view+json": {
              "version_major": 2,
              "version_minor": 0,
              "model_id": "764d1bd868e54caea50682fa5db2ae0c"
            }
          },
          "metadata": {}
        },
        {
          "output_type": "display_data",
          "data": {
            "text/plain": "Downloading:   0%|          | 0.00/39.3k [00:00<?, ?B/s]",
            "application/vnd.jupyter.widget-view+json": {
              "version_major": 2,
              "version_minor": 0,
              "model_id": "7f9b32b6f2e04d1fa136327b65aeb7b8"
            }
          },
          "metadata": {}
        },
        {
          "output_type": "display_data",
          "data": {
            "text/plain": "Downloading:   0%|          | 0.00/438M [00:00<?, ?B/s]",
            "application/vnd.jupyter.widget-view+json": {
              "version_major": 2,
              "version_minor": 0,
              "model_id": "3eb40a0dc8c74c3aa9c62144478a9626"
            }
          },
          "metadata": {}
        },
        {
          "output_type": "display_data",
          "data": {
            "text/plain": "Downloading:   0%|          | 0.00/438M [00:00<?, ?B/s]",
            "application/vnd.jupyter.widget-view+json": {
              "version_major": 2,
              "version_minor": 0,
              "model_id": "f2a7400c91124184b4a497ea894c14b0"
            }
          },
          "metadata": {}
        },
        {
          "output_type": "display_data",
          "data": {
            "text/plain": "Downloading:   0%|          | 0.00/53.0 [00:00<?, ?B/s]",
            "application/vnd.jupyter.widget-view+json": {
              "version_major": 2,
              "version_minor": 0,
              "model_id": "eeb08ed4fe004dd28495cb93705775f3"
            }
          },
          "metadata": {}
        },
        {
          "output_type": "display_data",
          "data": {
            "text/plain": "Downloading:   0%|          | 0.00/239 [00:00<?, ?B/s]",
            "application/vnd.jupyter.widget-view+json": {
              "version_major": 2,
              "version_minor": 0,
              "model_id": "dde23278acef4c77ac98e3aaa6a48ee6"
            }
          },
          "metadata": {}
        },
        {
          "output_type": "display_data",
          "data": {
            "text/plain": "Downloading:   0%|          | 0.00/466k [00:00<?, ?B/s]",
            "application/vnd.jupyter.widget-view+json": {
              "version_major": 2,
              "version_minor": 0,
              "model_id": "55736e5b1b574991a52b1de28b1d7592"
            }
          },
          "metadata": {}
        },
        {
          "output_type": "display_data",
          "data": {
            "text/plain": "Downloading:   0%|          | 0.00/363 [00:00<?, ?B/s]",
            "application/vnd.jupyter.widget-view+json": {
              "version_major": 2,
              "version_minor": 0,
              "model_id": "90175a4cbe2844e3bba4370a8cb101f4"
            }
          },
          "metadata": {}
        },
        {
          "output_type": "display_data",
          "data": {
            "text/plain": "Downloading:   0%|          | 0.00/13.1k [00:00<?, ?B/s]",
            "application/vnd.jupyter.widget-view+json": {
              "version_major": 2,
              "version_minor": 0,
              "model_id": "d474605810ea4d27b9d2d778ad90a612"
            }
          },
          "metadata": {}
        },
        {
          "output_type": "display_data",
          "data": {
            "text/plain": "Downloading:   0%|          | 0.00/232k [00:00<?, ?B/s]",
            "application/vnd.jupyter.widget-view+json": {
              "version_major": 2,
              "version_minor": 0,
              "model_id": "b89414ba0f6d434092aafd8f01e6725c"
            }
          },
          "metadata": {}
        },
        {
          "output_type": "display_data",
          "data": {
            "text/plain": "Downloading:   0%|          | 0.00/349 [00:00<?, ?B/s]",
            "application/vnd.jupyter.widget-view+json": {
              "version_major": 2,
              "version_minor": 0,
              "model_id": "7f3769f6545742c5ae55b916dafd13bc"
            }
          },
          "metadata": {}
        }
      ]
    },
    {
      "cell_type": "code",
      "source": [
        "\n",
        "# Embedding topics\n",
        "print(\"Embedding topics...\")\n",
        "topic_embeddings = model.encode([f\"{row['title']} - {row['description']}\" for idx, row in topics_df.iterrows()])\n",
        "\n",
        "# Embedding content\n",
        "print(\"Embedding content...\")\n",
        "content_embeddings = model.encode([row['title'] for idx, row in content_df.iterrows()])"
      ],
      "metadata": {
        "id": "5D1WgnNWdPs6",
        "execution": {
          "iopub.status.busy": "2024-07-09T17:26:00.416186Z",
          "iopub.execute_input": "2024-07-09T17:26:00.416499Z",
          "iopub.status.idle": "2024-07-09T17:28:02.479746Z",
          "shell.execute_reply.started": "2024-07-09T17:26:00.416468Z",
          "shell.execute_reply": "2024-07-09T17:28:02.478847Z"
        },
        "trusted": true,
        "colab": {
          "referenced_widgets": [
            "63a4ab0cb27749a4836b9c31f782f8eb",
            "024bf5d69e8b46208ac7f5563dc190bd"
          ]
        },
        "outputId": "34952943-4ea5-4030-ebec-d1f37d76ccd9"
      },
      "execution_count": null,
      "outputs": [
        {
          "name": "stdout",
          "text": "Embedding topics...\n",
          "output_type": "stream"
        },
        {
          "output_type": "display_data",
          "data": {
            "text/plain": "Batches:   0%|          | 0/877 [00:00<?, ?it/s]",
            "application/vnd.jupyter.widget-view+json": {
              "version_major": 2,
              "version_minor": 0,
              "model_id": "63a4ab0cb27749a4836b9c31f782f8eb"
            }
          },
          "metadata": {}
        },
        {
          "name": "stdout",
          "text": "Embedding content...\n",
          "output_type": "stream"
        },
        {
          "output_type": "display_data",
          "data": {
            "text/plain": "Batches:   0%|          | 0/2061 [00:00<?, ?it/s]",
            "application/vnd.jupyter.widget-view+json": {
              "version_major": 2,
              "version_minor": 0,
              "model_id": "024bf5d69e8b46208ac7f5563dc190bd"
            }
          },
          "metadata": {}
        }
      ]
    },
    {
      "cell_type": "code",
      "source": [
        "\n",
        "\n",
        "# Prepare data for training\n",
        "X = np.vstack((topic_embeddings, content_embeddings))\n",
        "y = np.concatenate((np.ones(len(topic_embeddings)), np.zeros(len(content_embeddings))))\n",
        "\n",
        "# Split the data into training and testing sets\n",
        "X_train, X_test, y_train, y_test = train_test_split(X, y, test_size=0.2, random_state=42)\n",
        "\n",
        "# Initialize SVM classifier\n",
        "svm_model = SVC(kernel='linear')\n",
        "\n",
        "# Train the model\n",
        "print(\"Training SVM model...\")\n",
        "svm_model.fit(X_train, y_train)\n",
        "\n",
        "# Make predictions\n",
        "y_pred = svm_model.predict(X_test)\n",
        "\n",
        "# Evaluate the model\n",
        "accuracy = accuracy_score(y_test, y_pred)\n",
        "print(f'Accuracy: {accuracy}')\n",
        "\n",
        "print('Classification Report:')\n",
        "print(classification_report(y_test, y_pred))\n",
        "\n",
        "print('Confusion Matrix:')\n",
        "print(confusion_matrix(y_test, y_pred))"
      ],
      "metadata": {
        "id": "XsYs209UdmS0",
        "execution": {
          "iopub.status.busy": "2024-07-09T17:28:02.481083Z",
          "iopub.execute_input": "2024-07-09T17:28:02.481413Z",
          "iopub.status.idle": "2024-07-09T17:54:30.739500Z",
          "shell.execute_reply.started": "2024-07-09T17:28:02.481383Z",
          "shell.execute_reply": "2024-07-09T17:54:30.738269Z"
        },
        "trusted": true,
        "outputId": "0c6a368d-aba1-4676-c775-4ba2ea3ef259"
      },
      "execution_count": null,
      "outputs": [
        {
          "name": "stdout",
          "text": "Training SVM model...\nAccuracy: 0.9038246715250812\nClassification Report:\n              precision    recall  f1-score   support\n\n         0.0       0.90      0.97      0.93     13262\n         1.0       0.90      0.76      0.82      5537\n\n    accuracy                           0.90     18799\n   macro avg       0.90      0.86      0.88     18799\nweighted avg       0.90      0.90      0.90     18799\n\nConfusion Matrix:\n[[12809   453]\n [ 1355  4182]]\n",
          "output_type": "stream"
        }
      ]
    },
    {
      "cell_type": "code",
      "source": [
        "!pip install matplotlib seaborn\n",
        "import seaborn as sns\n"
      ],
      "metadata": {
        "id": "YLbeAVjAdvvv",
        "execution": {
          "iopub.status.busy": "2024-07-09T17:54:30.741058Z",
          "iopub.execute_input": "2024-07-09T17:54:30.741380Z",
          "iopub.status.idle": "2024-07-09T17:54:42.227399Z",
          "shell.execute_reply.started": "2024-07-09T17:54:30.741350Z",
          "shell.execute_reply": "2024-07-09T17:54:42.226429Z"
        },
        "trusted": true,
        "outputId": "6c66f1bb-afce-42d6-d2ee-b000c333fd18"
      },
      "execution_count": null,
      "outputs": [
        {
          "name": "stdout",
          "text": "huggingface/tokenizers: The current process just got forked, after parallelism has already been used. Disabling parallelism to avoid deadlocks...\nTo disable this warning, you can either:\n\t- Avoid using `tokenizers` before the fork if possible\n\t- Explicitly set the environment variable TOKENIZERS_PARALLELISM=(true | false)\nRequirement already satisfied: matplotlib in /opt/conda/lib/python3.7/site-packages (3.5.3)\nRequirement already satisfied: seaborn in /opt/conda/lib/python3.7/site-packages (0.11.2)\nRequirement already satisfied: cycler>=0.10 in /opt/conda/lib/python3.7/site-packages (from matplotlib) (0.11.0)\nRequirement already satisfied: python-dateutil>=2.7 in /opt/conda/lib/python3.7/site-packages (from matplotlib) (2.8.2)\nRequirement already satisfied: fonttools>=4.22.0 in /opt/conda/lib/python3.7/site-packages (from matplotlib) (4.33.3)\nRequirement already satisfied: pillow>=6.2.0 in /opt/conda/lib/python3.7/site-packages (from matplotlib) (9.1.1)\nRequirement already satisfied: numpy>=1.17 in /opt/conda/lib/python3.7/site-packages (from matplotlib) (1.21.6)\nRequirement already satisfied: pyparsing>=2.2.1 in /opt/conda/lib/python3.7/site-packages (from matplotlib) (3.0.9)\nRequirement already satisfied: packaging>=20.0 in /opt/conda/lib/python3.7/site-packages (from matplotlib) (21.3)\nRequirement already satisfied: kiwisolver>=1.0.1 in /opt/conda/lib/python3.7/site-packages (from matplotlib) (1.4.3)\nRequirement already satisfied: scipy>=1.0 in /opt/conda/lib/python3.7/site-packages (from seaborn) (1.7.3)\nRequirement already satisfied: pandas>=0.23 in /opt/conda/lib/python3.7/site-packages (from seaborn) (1.3.5)\nRequirement already satisfied: typing-extensions in /opt/conda/lib/python3.7/site-packages (from kiwisolver>=1.0.1->matplotlib) (4.1.1)\nRequirement already satisfied: pytz>=2017.3 in /opt/conda/lib/python3.7/site-packages (from pandas>=0.23->seaborn) (2022.1)\nRequirement already satisfied: six>=1.5 in /opt/conda/lib/python3.7/site-packages (from python-dateutil>=2.7->matplotlib) (1.15.0)\n\u001b[33mWARNING: Running pip as the 'root' user can result in broken permissions and conflicting behaviour with the system package manager. It is recommended to use a virtual environment instead: https://pip.pypa.io/warnings/venv\u001b[0m\u001b[33m\n\u001b[0m",
          "output_type": "stream"
        }
      ]
    },
    {
      "cell_type": "code",
      "source": [
        "\n",
        "# Evaluate the model\n",
        "accuracy = accuracy_score(y_test, y_pred)\n",
        "report_dict = classification_report(y_test, y_pred, output_dict=True)\n",
        "conf_matrix = confusion_matrix(y_test, y_pred)\n",
        "\n",
        "# Convert evaluation results to tables\n",
        "def plot_classification_report(report):\n",
        "    report_df = pd.DataFrame(report).transpose()\n",
        "    plt.figure(figsize=(10, 6))\n",
        "    sns.heatmap(report_df.iloc[:-1, :-1].T, annot=True, cmap='Blues')\n",
        "    plt.title('Classification Report')\n",
        "    plt.ylabel('Metrics')\n",
        "    plt.xlabel('Classes')\n",
        "    plt.xticks(rotation=45)\n",
        "    plt.yticks(rotation=0)\n",
        "    plt.show()\n",
        "\n",
        "def plot_confusion_matrix(conf_matrix):\n",
        "    plt.figure(figsize=(6, 5))\n",
        "    sns.heatmap(conf_matrix, annot=True, fmt='d', cmap='Blues', xticklabels=['Content', 'Topic'], yticklabels=['Content', 'Topic'])\n",
        "    plt.title('Confusion Matrix')\n",
        "    plt.ylabel('True Label')\n",
        "    plt.xlabel('Predicted Label')\n",
        "    plt.xticks(rotation=45)\n",
        "    plt.yticks(rotation=0)\n",
        "    plt.show()\n",
        "\n",
        "print(f'Accuracy: {accuracy}')\n",
        "plot_classification_report(report_dict)"
      ],
      "metadata": {
        "id": "vaY23f3DdtSp",
        "execution": {
          "iopub.status.busy": "2024-07-09T17:54:42.231030Z",
          "iopub.execute_input": "2024-07-09T17:54:42.231852Z",
          "iopub.status.idle": "2024-07-09T17:54:42.653212Z",
          "shell.execute_reply.started": "2024-07-09T17:54:42.231805Z",
          "shell.execute_reply": "2024-07-09T17:54:42.652192Z"
        },
        "trusted": true,
        "outputId": "7ceacccd-f2f0-4115-e85a-c46e9b3e58b9"
      },
      "execution_count": null,
      "outputs": [
        {
          "name": "stdout",
          "text": "Accuracy: 0.9038246715250812\n",
          "output_type": "stream"
        },
        {
          "output_type": "display_data",
          "data": {
            "text/plain": "<Figure size 720x432 with 2 Axes>",
            "image/png": "[encoded data removed]"
          },
          "metadata": {
            "needs_background": "light"
          }
        }
      ]
    },
    {
      "cell_type": "code",
      "source": [
        "plot_confusion_matrix(conf_matrix)"
      ],
      "metadata": {
        "id": "aYgbcdjpdzI5",
        "execution": {
          "iopub.status.busy": "2024-07-09T17:54:42.654446Z",
          "iopub.execute_input": "2024-07-09T17:54:42.654768Z",
          "iopub.status.idle": "2024-07-09T17:54:42.847601Z",
          "shell.execute_reply.started": "2024-07-09T17:54:42.654740Z",
          "shell.execute_reply": "2024-07-09T17:54:42.846536Z"
        },
        "trusted": true,
        "outputId": "6f3a823f-59d9-44f7-fe3b-9b4cc45c965a"
      },
      "execution_count": null,
      "outputs": [
        {
          "output_type": "display_data",
          "data": {
            "text/plain": "<Figure size 432x360 with 2 Axes>",
            "image/png": "[encoded data removed]"
          },
          "metadata": {
            "needs_background": "light"
          }
        }
      ]
    },
    {
      "cell_type": "code",
      "source": [
        "# Save the trained model to a file\n",
        "joblib.dump(svm_model, 'svm_model.joblib')\n",
        "\n",
        "# Load the trained model\n",
        "svm_model = joblib.load('svm_model.joblib')"
      ],
      "metadata": {
        "id": "fs4OLUsbd08w",
        "execution": {
          "iopub.status.busy": "2024-07-09T17:54:42.853359Z",
          "iopub.execute_input": "2024-07-09T17:54:42.853927Z",
          "iopub.status.idle": "2024-07-09T17:54:43.061429Z",
          "shell.execute_reply.started": "2024-07-09T17:54:42.853873Z",
          "shell.execute_reply": "2024-07-09T17:54:43.060213Z"
        },
        "trusted": true
      },
      "execution_count": null,
      "outputs": []
    },
    {
      "cell_type": "code",
      "source": [
        "# Define recommendation function using SVM\n",
        "def recommend_content(topic_id, svm_model, model):\n",
        "    # Get the embedding for the given topic_id\n",
        "    topic_embedding = model.encode(f\"{topics_df.loc[topic_id]['title']} - {topics_df.loc[topic_id]['description']}\")\n",
        "\n",
        "    # Calculate distances between the topic embedding and all content embeddings\n",
        "    distances = np.linalg.norm(content_embeddings - topic_embedding, axis=1)\n",
        "\n",
        "    # Get the indices of the closest content\n",
        "    top_indices = np.argsort(distances)[:10]  # Top 10 recommendations\n",
        "    recommended_content_ids = content_df.index[top_indices].tolist()\n",
        "\n",
        "    return recommended_content_ids\n",
        "\n",
        "# Example usage\n",
        "def run_recommendation(topic_id):\n",
        "    recommended_content = recommend_content(topic_id, svm_model, model)\n",
        "    if recommended_content:\n",
        "        print(f\"Recommended content for Topic ID {topic_id}:\")\n",
        "        print(\"Topic title:\", topics_df.loc[topic_id][\"title\"])\n",
        "        print(\"Recommendations:\")\n",
        "        recommendations = []\n",
        "        for content_id in recommended_content:\n",
        "            recommendations.append([content_id, content_df.loc[content_id]['title']])\n",
        "            print(f\"Content ID: {content_id}, Title: {content_df.loc[content_id]['title']}\")\n",
        "        return recommendations\n",
        "    else:\n",
        "        print(f\"No recommendations available for Topic ID {topic_id}\")\n",
        "        return []\n",
        "\n",
        "# Example usage\n",
        "recommendations = run_recommendation('t_00069b63a70a')  # Replace with an actual topic_id from your dataset\n",
        "\n"
      ],
      "metadata": {
        "colab": {
          "referenced_widgets": [
            "f406838d667a405a961d05fa336de233",
            "352b97a4cdba4e9cbfe46a16a3aeefa3",
            "a1c1a417e20142cb895b626fcb3f785d",
            "06c595f296d4470caf1d77b24c3baa7a",
            "ee7e73dd856d49c88759d09eb98ffb68",
            "e7cf248cc8a943df962e65852ca2d328",
            "be4e7d0b6b024233b4cc1b431742a9e0",
            "9c48562a75a0437d8b78902a6bcb8671",
            "93b98393831442ada2cbf723a73efcd6",
            "b9e6fb49329d453a8102eaebbe335461",
            "89aa17b1d02a435e8bd2163a8238993e",
            "d22be26719cd4379bf39cd1ec6dc05df",
            "435fc5bb38a740308378fa0742d677de",
            "4f89137f72524414a98c0c34f0eba7ee",
            "32d1d7e198c148be9dca3bd6a0b43711",
            "1cc474e59dbf4a1aa743a495374fb25b",
            "853794e6d054489c82d90bcc00a90840",
            "60140843e4c243b2befd2c10f45175d5",
            "80a1e5b2a2ca4021acaeffec6fe8645a"
          ]
        },
        "id": "v_ZrE1esbvIN",
        "outputId": "ea212e9b-e296-4738-eae4-adc0de07bbca",
        "execution": {
          "iopub.status.busy": "2024-07-09T17:54:43.063204Z",
          "iopub.execute_input": "2024-07-09T17:54:43.063941Z",
          "iopub.status.idle": "2024-07-09T17:54:43.312829Z",
          "shell.execute_reply.started": "2024-07-09T17:54:43.063896Z",
          "shell.execute_reply": "2024-07-09T17:54:43.311802Z"
        },
        "trusted": true
      },
      "execution_count": null,
      "outputs": [
        {
          "output_type": "display_data",
          "data": {
            "text/plain": "Batches:   0%|          | 0/1 [00:00<?, ?it/s]",
            "application/vnd.jupyter.widget-view+json": {
              "version_major": 2,
              "version_minor": 0,
              "model_id": "80a1e5b2a2ca4021acaeffec6fe8645a"
            }
          },
          "metadata": {}
        },
        {
          "name": "stdout",
          "text": "Recommended content for Topic ID t_00069b63a70a:\nTopic title: Transcripts\nRecommendations:\nContent ID: c_942b454ca508, Title: Amount of Substance ..: Written Transcript part 2 of 2\nContent ID: c_c4b6db8b5c7d, Title: Amount of Substance ..: Written Transcript part 1 of 2\nContent ID: c_d0967bfa2fb2, Title: 2.8: Playgrounds and Transcripts\nContent ID: c_430ddb6fbfa4, Title: Transcription\nContent ID: c_07e16f3aabbf, Title: Transcription\nContent ID: c_2359fa003e04, Title: Choosing a College R..: Written Transcript of this video lesson\nContent ID: c_89dee4e1d740, Title: Lecture 18: Transcription\nContent ID: c_fac629ee0e31, Title: Part 3: Transcription\nContent ID: c_8361130de2a0, Title: 9.3: Transcription\nContent ID: c_ff82a1f8599c, Title: 5.3: Transcription\n",
          "output_type": "stream"
        }
      ]
    }
  ]
}